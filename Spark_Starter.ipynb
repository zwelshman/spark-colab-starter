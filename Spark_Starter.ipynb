{
  "nbformat": 4,
  "nbformat_minor": 0,
  "metadata": {
    "colab": {
      "provenance": [],
      "authorship_tag": "ABX9TyOc0aEmgrZ6G1HK3xlGpSwF",
      "include_colab_link": true
    },
    "kernelspec": {
      "name": "python3",
      "display_name": "Python 3"
    },
    "language_info": {
      "name": "python"
    }
  },
  "cells": [
    {
      "cell_type": "markdown",
      "metadata": {
        "id": "view-in-github",
        "colab_type": "text"
      },
      "source": [
        "<a href=\"https://colab.research.google.com/github/zwelshman/spark-colab-starter/blob/main/Spark_Starter.ipynb\" target=\"_parent\"><img src=\"https://colab.research.google.com/assets/colab-badge.svg\" alt=\"Open In Colab\"/></a>"
      ]
    },
    {
      "cell_type": "markdown",
      "source": [
        "# Introduction\n",
        "\n",
        "External Starter Spark Notebook for running or testing code\n",
        "\n",
        "- Run the cell below to install spark and instantiate a spark session."
      ],
      "metadata": {
        "id": "KB_pxrdrmJW3"
      }
    },
    {
      "cell_type": "code",
      "execution_count": null,
      "metadata": {
        "id": "TZhiERmkSGOo"
      },
      "outputs": [],
      "source": [
        "!apt-get install openjdk-8-jdk-headless -qq > /dev/null\n",
        "!wget -q http://archive.apache.org/dist/spark/spark-3.1.1/spark-3.1.1-bin-hadoop3.2.tgz\n",
        "!tar xf spark-3.1.1-bin-hadoop3.2.tgz\n",
        "!pip install -q findspark\n",
        "\n",
        "import os\n",
        "os.environ[\"JAVA_HOME\"] = \"/usr/lib/jvm/java-8-openjdk-amd64\"\n",
        "os.environ[\"SPARK_HOME\"] = \"/content/spark-3.1.1-bin-hadoop3.2\"\n",
        "\n",
        "import findspark\n",
        "findspark.init()\n",
        "\n",
        "from pyspark.sql import SparkSession\n",
        "spark = SparkSession.builder.master(\"local[*]\").getOrCreate()\n",
        "spark.conf.set(\"spark.sql.repl.eagerEval.enabled\", True) # Property used to format output tables better\n",
        "\n",
        "spark"
      ]
    },
    {
      "cell_type": "code",
      "source": [
        "from pyspark.sql import functions as F\n",
        "\n",
        "df = (\n",
        "    spark.createDataFrame(\n",
        "        [\n",
        "            (\"id_001\", \"2020-01-01\", 52),\n",
        "            (\"id_002\", \"2021-06-23\", 63),\n",
        "            (\"id_003\", \"2020-05-01\", 16)\n",
        "        ],\n",
        "        ['person_id', 'date', 'age']\n",
        "    )\n",
        "    .withColumn('date', F.to_date(F.col('date')))\n",
        ")\n",
        "\n",
        "display(df)"
      ],
      "metadata": {
        "colab": {
          "base_uri": "https://localhost:8080/",
          "height": 114
        },
        "id": "gXdt3IMYSPNB",
        "outputId": "3185d27c-21f6-4b88-90dd-2932685f4f44"
      },
      "execution_count": null,
      "outputs": [
        {
          "output_type": "display_data",
          "data": {
            "text/plain": [
              "+---------+----------+---+\n",
              "|person_id|      date|age|\n",
              "+---------+----------+---+\n",
              "|   id_001|2020-01-01| 52|\n",
              "|   id_002|2021-06-23| 63|\n",
              "|   id_003|2020-05-01| 16|\n",
              "+---------+----------+---+"
            ],
            "text/html": [
              "<table border='1'>\n",
              "<tr><th>person_id</th><th>date</th><th>age</th></tr>\n",
              "<tr><td>id_001</td><td>2020-01-01</td><td>52</td></tr>\n",
              "<tr><td>id_002</td><td>2021-06-23</td><td>63</td></tr>\n",
              "<tr><td>id_003</td><td>2020-05-01</td><td>16</td></tr>\n",
              "</table>\n"
            ]
          },
          "metadata": {}
        }
      ]
    },
    {
      "cell_type": "code",
      "source": [
        "df"
      ],
      "metadata": {
        "id": "lQlBggRtl7yo"
      },
      "execution_count": null,
      "outputs": []
    },
    {
      "cell_type": "code",
      "source": [],
      "metadata": {
        "id": "OROAr0P_m-35"
      },
      "execution_count": null,
      "outputs": []
    }
  ]
}